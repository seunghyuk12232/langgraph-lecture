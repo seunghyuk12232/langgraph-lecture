{
 "cells": [
  {
   "cell_type": "code",
   "id": "initial_id",
   "metadata": {
    "collapsed": true,
    "ExecuteTime": {
     "end_time": "2025-06-16T04:00:07.252654Z",
     "start_time": "2025-06-16T03:59:45.113592Z"
    }
   },
   "source": "%pip install -q python-dotenv langchain-openai",
   "outputs": [
    {
     "name": "stdout",
     "output_type": "stream",
     "text": [
      "Note: you may need to restart the kernel to use updated packages.\n"
     ]
    },
    {
     "name": "stderr",
     "output_type": "stream",
     "text": [
      "\n",
      "[notice] A new release of pip is available: 24.3.1 -> 25.1.1\n",
      "[notice] To update, run: python.exe -m pip install --upgrade pip\n"
     ]
    }
   ],
   "execution_count": 1
  },
  {
   "metadata": {
    "ExecuteTime": {
     "end_time": "2025-06-16T04:01:20.382124Z",
     "start_time": "2025-06-16T04:01:20.353215Z"
    }
   },
   "cell_type": "code",
   "source": [
    "from dotenv import load_dotenv\n",
    "load_dotenv()"
   ],
   "id": "a4dec6fb7d57e76f",
   "outputs": [
    {
     "data": {
      "text/plain": [
       "True"
      ]
     },
     "execution_count": 2,
     "metadata": {},
     "output_type": "execute_result"
    }
   ],
   "execution_count": 2
  },
  {
   "metadata": {
    "ExecuteTime": {
     "end_time": "2025-06-16T04:03:20.372986Z",
     "start_time": "2025-06-16T04:03:11.887500Z"
    }
   },
   "cell_type": "code",
   "source": [
    "from langchain_openai import ChatOpenAI\n",
    "\n",
    "query = '인프런에는 어떤 강의가 있나요?'\n",
    "\n",
    "llm = ChatOpenAI(model='gpt-4o-mini')\n",
    "llm.invoke(query)"
   ],
   "id": "d3d4cf01f5c84046",
   "outputs": [
    {
     "data": {
      "text/plain": [
       "AIMessage(content='인프런(Infront)은 다양한 온라인 강의를 제공하는 플랫폼으로, 주로 IT, 프로그래밍, 데이터 분석, 디자인, 마케팅 등 여러 분야의 강의를 포함하고 있습니다. 예를 들어, 다음과 같은 강의들이 있을 수 있습니다:\\n\\n1. **프로그래밍**: Python, Java, C++, 웹 개발 관련 강의\\n2. **데이터 분석**: 데이터 시각화, SQL, 머신러닝 관련 강의\\n3. **디자인**: UI/UX 디자인, 그래픽 디자인 관련 강의\\n4. **마케팅**: 디지털 마케팅, 소셜 미디어 마케팅 관련 강의\\n5. **기타**: IT 자격증 준비, 클라우드 컴퓨팅, DevOps 관련 강의 등\\n\\n각 분야별로 초급부터 고급 과정까지 다양한 수준의 강의가 제공되며, 강의는 주로 동영상 형식으로 진행됩니다. 최신 강의 정보는 인프런 웹사이트를 방문하여 확인하실 수 있습니다.', additional_kwargs={'refusal': None}, response_metadata={'token_usage': {'completion_tokens': 218, 'prompt_tokens': 18, 'total_tokens': 236, 'completion_tokens_details': {'accepted_prediction_tokens': 0, 'audio_tokens': 0, 'reasoning_tokens': 0, 'rejected_prediction_tokens': 0}, 'prompt_tokens_details': {'audio_tokens': 0, 'cached_tokens': 0}}, 'model_name': 'gpt-4o-mini-2024-07-18', 'system_fingerprint': 'fp_34a54ae93c', 'id': 'chatcmpl-BivLsiqHOu8rZyAbRonNAIxJGQDHU', 'service_tier': 'default', 'finish_reason': 'stop', 'logprobs': None}, id='run--fdcbb04f-fe61-45a8-9572-3fa952e5eb76-0', usage_metadata={'input_tokens': 18, 'output_tokens': 218, 'total_tokens': 236, 'input_token_details': {'audio': 0, 'cache_read': 0}, 'output_token_details': {'audio': 0, 'reasoning': 0}})"
      ]
     },
     "execution_count": 4,
     "metadata": {},
     "output_type": "execute_result"
    }
   ],
   "execution_count": 4
  },
  {
   "metadata": {
    "ExecuteTime": {
     "end_time": "2025-06-16T04:05:00.602020Z",
     "start_time": "2025-06-16T04:04:55.540712Z"
    }
   },
   "cell_type": "code",
   "source": "%pip install -q langgraph",
   "id": "7dbbda8344921ef9",
   "outputs": [
    {
     "name": "stdout",
     "output_type": "stream",
     "text": [
      "Note: you may need to restart the kernel to use updated packages.\n"
     ]
    },
    {
     "name": "stderr",
     "output_type": "stream",
     "text": [
      "\n",
      "[notice] A new release of pip is available: 24.3.1 -> 25.1.1\n",
      "[notice] To update, run: python.exe -m pip install --upgrade pip\n"
     ]
    }
   ],
   "execution_count": 5
  },
  {
   "metadata": {
    "ExecuteTime": {
     "end_time": "2025-06-16T04:07:23.659747Z",
     "start_time": "2025-06-16T04:07:23.524973Z"
    }
   },
   "cell_type": "code",
   "source": [
    "from typing import Annotated\n",
    "from typing_extensions import TypedDict\n",
    "\n",
    "from langgraph.graph.message import add_messages\n",
    "from langchain_core.messages import AnyMessage\n",
    "\n",
    "class AgentState(TypedDict):\n",
    "\tmessages: list[AnyMessage, add_messages]"
   ],
   "id": "a324c68e26f8e21d",
   "outputs": [],
   "execution_count": 6
  },
  {
   "metadata": {
    "ExecuteTime": {
     "end_time": "2025-06-16T04:08:02.399980Z",
     "start_time": "2025-06-16T04:08:02.390392Z"
    }
   },
   "cell_type": "code",
   "source": [
    "from langgraph.graph import Graph, StateGraph\n",
    "\n",
    "graph_builder = StateGraph(AgentState)"
   ],
   "id": "f238526ba4b44c5b",
   "outputs": [],
   "execution_count": 7
  },
  {
   "metadata": {
    "ExecuteTime": {
     "end_time": "2025-06-16T04:09:41.807903Z",
     "start_time": "2025-06-16T04:09:41.800672Z"
    }
   },
   "cell_type": "code",
   "source": [
    "def generate(state: AgentState) -> AgentState:\n",
    "    messages = state['messages']\n",
    "    ai_message = llm.invoke(messages)\n",
    "    return {'messages': [ai_message]}"
   ],
   "id": "5cbcbb987ae89f24",
   "outputs": [],
   "execution_count": 8
  },
  {
   "metadata": {
    "ExecuteTime": {
     "end_time": "2025-06-16T04:10:42.279001Z",
     "start_time": "2025-06-16T04:10:42.268794Z"
    }
   },
   "cell_type": "code",
   "source": [
    "from langgraph.graph import START, END\n",
    "graph_builder.add_node('generate', generate)"
   ],
   "id": "10bd0e472e3a8f22",
   "outputs": [
    {
     "data": {
      "text/plain": [
       "<langgraph.graph.state.StateGraph at 0x23d019db5f0>"
      ]
     },
     "execution_count": 9,
     "metadata": {},
     "output_type": "execute_result"
    }
   ],
   "execution_count": 9
  },
  {
   "metadata": {
    "ExecuteTime": {
     "end_time": "2025-06-16T04:11:25.485128Z",
     "start_time": "2025-06-16T04:11:25.477693Z"
    }
   },
   "cell_type": "code",
   "source": [
    "from langgraph.graph import START, END\n",
    "\n",
    "graph_builder.add_edge(START, 'generate')\n",
    "graph_builder.add_edge('generate', END)"
   ],
   "id": "eee11f474d9de08f",
   "outputs": [
    {
     "data": {
      "text/plain": [
       "<langgraph.graph.state.StateGraph at 0x23d019db5f0>"
      ]
     },
     "execution_count": 10,
     "metadata": {},
     "output_type": "execute_result"
    }
   ],
   "execution_count": 10
  },
  {
   "metadata": {
    "ExecuteTime": {
     "end_time": "2025-06-16T04:13:04.171956Z",
     "start_time": "2025-06-16T04:13:04.164623Z"
    }
   },
   "cell_type": "code",
   "source": "graph = graph_builder.compile()",
   "id": "6d2fee22f2027036",
   "outputs": [],
   "execution_count": 12
  },
  {
   "metadata": {
    "ExecuteTime": {
     "end_time": "2025-06-16T04:13:21.960947Z",
     "start_time": "2025-06-16T04:13:21.188613Z"
    }
   },
   "cell_type": "code",
   "source": [
    "from IPython.display import display, Image\n",
    "\n",
    "display(Image(graph.get_graph().draw_mermaid_png()))"
   ],
   "id": "e8627cd9fc065039",
   "outputs": [
    {
     "data": {
      "image/png": "[encoded data removed]",
      "text/plain": [
       "<IPython.core.display.Image object>"
      ]
     },
     "metadata": {},
     "output_type": "display_data"
    }
   ],
   "execution_count": 13
  },
  {
   "metadata": {},
   "cell_type": "code",
   "outputs": [],
   "execution_count": null,
   "source": "",
   "id": "5fa8531c2493aea7"
  }
 ],
 "metadata": {
  "kernelspec": {
   "display_name": "Python 3",
   "language": "python",
   "name": "python3"
  },
  "language_info": {
   "codemirror_mode": {
    "name": "ipython",
    "version": 2
   },
   "file_extension": ".py",
   "mimetype": "text/x-python",
   "name": "python",
   "nbconvert_exporter": "python",
   "pygments_lexer": "ipython2",
   "version": "2.7.6"
  }
 },
 "nbformat": 4,
 "nbformat_minor": 5
}
