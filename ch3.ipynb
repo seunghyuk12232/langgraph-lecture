{
 "cells": [
  {
   "cell_type": "code",
   "execution_count": 51,
   "id": "3057bb47",
   "metadata": {},
   "outputs": [
    {
     "name": "stderr",
     "output_type": "stream",
     "text": [
      "Failed to send telemetry event ClientStartEvent: capture() takes 1 positional argument but 3 were given\n",
      "Failed to send telemetry event ClientCreateCollectionEvent: capture() takes 1 positional argument but 3 were given\n"
     ]
    }
   ],
   "source": [
    "from langchain_chroma import Chroma\n",
    "from langchain_openai import OpenAIEmbeddings\n",
    "\n",
    "embedding_function = OpenAIEmbeddings(model=\"text-embedding-3-large\")\n",
    "\n",
    "vectorstore = Chroma(\n",
    "    collection_name=\"income_tax_collection\",\n",
    "    embedding_function=embedding_function,\n",
    "    persist_directory=\"./income_tax_collection\"\n",
    ")\n"
   ]
  },
  {
   "cell_type": "code",
   "execution_count": 52,
   "id": "b16fd20e",
   "metadata": {},
   "outputs": [],
   "source": [
    "retriever = vectorstore.as_retriever(search_kwargs={'k':3})\n"
   ]
  },
  {
   "cell_type": "code",
   "execution_count": 53,
   "id": "ad3c5cc7",
   "metadata": {},
   "outputs": [],
   "source": [
    "from typing_extensions import TypedDict, List\n",
    "from langchain_core.documents import Document\n",
    "\n",
    "class AgentState(TypedDict):\n",
    "    query: str\n",
    "    context: List[Document]\n",
    "    answer: str\n"
   ]
  },
  {
   "cell_type": "code",
   "execution_count": 54,
   "id": "55d6b7b5",
   "metadata": {},
   "outputs": [],
   "source": [
    "from langgraph.graph import StateGraph, START, END\n",
    "\n",
    "graph_builder = StateGraph(AgentState)\n"
   ]
  },
  {
   "cell_type": "code",
   "execution_count": 55,
   "id": "47c80ccd",
   "metadata": {},
   "outputs": [],
   "source": [
    "def retrieve(state: AgentState):\n",
    "    query = state['query']\n",
    "    docs = retriever.invoke(query)\n",
    "    return {'context': docs}\n",
    "    "
   ]
  },
  {
   "cell_type": "code",
   "execution_count": 56,
   "id": "0af23103",
   "metadata": {},
   "outputs": [],
   "source": [
    "from langchain_openai import ChatOpenAI\n",
    "llm = ChatOpenAI(model=\"gpt-4o\")"
   ]
  },
  {
   "cell_type": "code",
   "execution_count": 57,
   "id": "1a8fbf35",
   "metadata": {},
   "outputs": [
    {
     "name": "stderr",
     "output_type": "stream",
     "text": [
      "/Users/nhn/.pyenv/versions/3.12.10/envs/langgraph-lecture/lib/python3.12/site-packages/langsmith/client.py:272: LangSmithMissingAPIKeyWarning: API key must be provided when using hosted LangSmith API\n",
      "  warnings.warn(\n"
     ]
    }
   ],
   "source": [
    "from langchain import hub\n",
    "\n",
    "generate_prompt = hub.pull(\"rlm/rag-prompt\")\n",
    "\n",
    "def generate(state: AgentState):\n",
    "    context = state['context']\n",
    "    query = state['query']\n",
    "    rag_chain = generate_prompt | llm\n",
    "    response = rag_chain.invoke({'context': context, 'question': query})\n",
    "    return {'answer': response}\n",
    "    "
   ]
  },
  {
   "cell_type": "code",
   "execution_count": 58,
   "id": "9db2deeb",
   "metadata": {},
   "outputs": [
    {
     "name": "stderr",
     "output_type": "stream",
     "text": [
      "/Users/nhn/.pyenv/versions/3.12.10/envs/langgraph-lecture/lib/python3.12/site-packages/langsmith/client.py:272: LangSmithMissingAPIKeyWarning: API key must be provided when using hosted LangSmith API\n",
      "  warnings.warn(\n"
     ]
    }
   ],
   "source": [
    "from langchain import hub\n",
    "from typing import Literal\n",
    "\n",
    "doc_relevance_prompt = hub.pull(\"langchain-ai/rag-document-relevance\")\n",
    "\n",
    "\n",
    "def check_doc_relevance(state: AgentState) -> Literal[\"generate\", \"rewrite\"]:\n",
    "    context = state[\"context\"]\n",
    "    query = state[\"query\"]\n",
    "    print(f'context == {context}')\n",
    "    doc_relevance_chain = doc_relevance_prompt | llm\n",
    "    response = doc_relevance_chain.invoke({\"documents\": context, \"question\": query})\n",
    "    print(f'doc relevance response == {response}')\n",
    "    if response[\"Score\"] == 1:\n",
    "        return \"generate\"\n",
    "\n",
    "    return \"rewrite\""
   ]
  },
  {
   "cell_type": "code",
   "execution_count": 59,
   "id": "42971253",
   "metadata": {},
   "outputs": [],
   "source": [
    "query = '연봉 5천만원 직장인의 소득세는?'"
   ]
  },
  {
   "cell_type": "code",
   "execution_count": 60,
   "id": "dd8348ea",
   "metadata": {},
   "outputs": [],
   "source": [
    "from langchain_core.prompts import PromptTemplate\n",
    "from langchain_core.output_parsers import StrOutputParser\n",
    "\n",
    "dictionary = ['사람과 관련된 표현 -> 거주자']\n",
    "\n",
    "rewrite_prompt = PromptTemplate.from_template(f\"\"\"\n",
    "사용자의 질문을 보고, 우리의 사전을 참고해서 사용자의 질문을 변경해주세요\n",
    "사전: {dictionary}\n",
    "질문: {{query}}\n",
    "\"\"\")\n",
    "\n",
    "def rewrite(state: AgentState):\n",
    "    query = state['query']\n",
    "    rewrite_chain = rewrite_prompt | llm | StrOutputParser()\n",
    "    response = rewrite_chain.invoke({'query': query})\n",
    "    return {'query': response}\n",
    "    \n",
    "    "
   ]
  },
  {
   "cell_type": "code",
   "execution_count": 61,
   "id": "8b3ec8cc",
   "metadata": {},
   "outputs": [
    {
     "data": {
      "text/plain": [
       "<langgraph.graph.state.StateGraph at 0x114fabdd0>"
      ]
     },
     "execution_count": 61,
     "metadata": {},
     "output_type": "execute_result"
    }
   ],
   "source": [
    "graph_builder.add_node('retrieve', retrieve)\n",
    "graph_builder.add_node('generate', generate)\n",
    "graph_builder.add_node('rewrite', rewrite)\n"
   ]
  },
  {
   "cell_type": "code",
   "execution_count": 62,
   "id": "9e431d22",
   "metadata": {},
   "outputs": [
    {
     "data": {
      "text/plain": [
       "<langgraph.graph.state.StateGraph at 0x114fabdd0>"
      ]
     },
     "execution_count": 62,
     "metadata": {},
     "output_type": "execute_result"
    }
   ],
   "source": [
    "from langgraph.graph import START, END\n",
    "\n",
    "graph_builder.add_edge(START, 'retrieve')\n",
    "graph_builder.add_conditional_edges('retrieve', check_doc_relevance)\n",
    "graph_builder.add_edge('rewrite', 'retrieve')\n",
    "graph_builder.add_edge('generate', END)\n",
    "\n",
    "\n"
   ]
  },
  {
   "cell_type": "code",
   "execution_count": 63,
   "id": "c33df004",
   "metadata": {},
   "outputs": [],
   "source": [
    "graph = graph_builder.compile()"
   ]
  },
  {
   "cell_type": "code",
   "execution_count": 64,
   "id": "a4543454",
   "metadata": {},
   "outputs": [
    {
     "data": {
      "image/png": "[encoded data removed]",
      "text/plain": [
       "<IPython.core.display.Image object>"
      ]
     },
     "metadata": {},
     "output_type": "display_data"
    }
   ],
   "source": [
    "from IPython.display import Image, display\n",
    "display(Image(graph.get_graph().draw_mermaid_png()))"
   ]
  },
  {
   "cell_type": "code",
   "execution_count": 65,
   "id": "29e5d699",
   "metadata": {},
   "outputs": [
    {
     "name": "stdout",
     "output_type": "stream",
     "text": [
      "context == [Document(id='ba2056ee-28dc-48a8-9f3a-78c3ba24da6b', metadata={'source': './documents/income_tax2.txt'}, page_content='5년 이하: 30만원 → 납입연수\\n5년 초과 10년 이하: 150만원 + 50만원 × (납입연수 - 5년)\\n10년 초과 20년 이하: 400만원 + 80만원 × (납입연수 - 10년)\\n20년 초과: 1,200만원 + 120만원 × (납입연수 - 20년)\\n\\n② 직장근로자 초과관세환급금을 분배하여 지급받는 경우 세액의 계산 방법 등 필요한 사항은 대통령령으로 정한다. \\n<대통령 2014. 12. 23.>\\n<전문개정 2009. 12. 31.>\\n제64조(부동산매매업자에 대한 세액 계산의 특례)\\n1) 대통령령으로 정하는 부동산매매업(이하 “부동산매매업”이라 한다)을 영위하는 거주자가 이하 “부동산매매업자”라 한다)로서 종합소득세법에 제104조제1항제1호(본항을 포함한다) 및 제103조 또는 같은 조 제7항 각 호의 어느 하나에 해당하는 자산의 매매자익(이하 “주택등매매차익”이라 한다)이 있는 자의 종합소득 산출세액은 다음 각 호의 세액 중 많은 것으로 한다. \\n<개정 2014. 12. 23., 2017. 12. 19., 2020. 12. 29.>\\n1. 종합소득 산출세액\\n\\n다음 각 목에 따른 세액의 합계액\\n  가. 주택등매매차익에 따른 세율을 적용하여 산출한 세액의 합계액\\n  나. 종합소득세법 제55조에 따라 주택등매매차익에 대한 개별세액을 공제한 금액을 과세표준으로 하고 이에 제55조에 따른 세율을 적용하여 산출세액'), Document(id='07aa73e7-af59-4e3b-af9e-f9ea18ec6e9b', metadata={'source': './documents/income_tax2.txt'}, page_content='이자소득에 대해서는 다음과 같이 규정하는 세율\\n가. 삭제<2017. 12. 19.>\\n나. 비영업대금의 이익에 대해서는 100분의 25. 단, ‘온라인투자연계금융업 및 이용자 보호에 관한 법률’ 제 법 금융위원회에 등록한 온라인투자연계금융업자를 통해 지급받는 이자소득에 대해서는 100분의 14 한다.\\n다. 제16조제1항제10호에 따른 직장공제기초발행금에 대해서는 기본세율\\n라. 그 밖의 이자소득에 대해서는 100분의 14\\n마. 배당소득에 대해서는 다음과 같이 규정하는 세율\\n바. 제17조제1항제8호에 따른 출자공동사업자의 배당소득에 대해서는 100분의 25\\n사. 그 밖의 배당소득에 대해서는 100분의 14\\n원천징수 대상 사업소득에 대해서는 100분의 3. 다만, 외국인 직업운동가가 한국프로스포츠산업법에 따른 스포츠 클럽 운영의 정 프로스포츠구단안에 계약(예외기간이 3년 이하인 경우로 한정한다)에 따라 종목을 제공하고 받는 소득에 대해서는 100분의 20으로 한다.\\n근로소득에 대해서는 기본세율. 다만, 임금근로자의 근로소득에 대해서는 100분의 6으로 한다.\\n공적연금소득에 대해서는 기본세율\\n제21조제3항제12호 및 제다목에 따른 연금계좌 말일에 운영실적에 따른 증가액을 연금소득변경 업소득에 대해서는 다음 각 목의 구분에 따른 세율. 이 경우 각 목의 요건을 동시에 충족하는 경우에 낮은 세율을 적용한다.\\n가. 연금소득자의 나이에 따른 다음의 세율\\n\\n| 나이(연금수령형태) | 세율          |\\n|----------------------|---------------|\\n| 70세 미만            | 10분의 5     |\\n| 70세 이상           | 80세 미만    | 10분의 4 |\\n| 80세 이상           | 10분의 3     |\\n\\n나. 삭제<2014. 12. 23.>\\n다. 사업할 때까지 연금수령으로 정하는 중신계약에 따라 받는 연금소득에 대해서는 100분의 4\\n제20조제3항제12호와 제13호에 따라 퇴직소득에 대해서는 다음 각 목의 구분에 따른 세율. 이 경우 연금 실세 수령과 및 연금수령 원천징수세율의 계정의 내용은 대출형으로 정한다.\\n가. 연금 실세 수령연차가 10년 미만인 경우: 연금수령 원천징수세율이 100분의 70\\n나. 연금 실세 수령연차가 10년을 초과하는 경우: 연금수령 원천징수세율이 100분의 60\\n기타소득에 대해서는 다음 규정하는 세율. 다만, 제8호를 적용하는 경우를 제외한다.\\n라. 제14조제1항제9호 및 마목에 해당하는 소득금액이 3억원을 초과하는 경우 그 초과하는 부분에 대해서는 100분의 30\\n제21조제1항제18호 및 제24조에 따른 기타소득에 대해서는 100분의 15\\n다. 삭제<2014. 12. 23.>\\n라. 그 밖의 기타소득에 대해서는 100분의 20\\n퇴직소득에 대해서는 기본세율\\n대통령령으로 정하는 봉사료에 대해서는 100분의 5'), Document(id='386ab166-3fc1-4836-a5ae-a2c4b3570237', metadata={'source': './documents/income_tax2.txt'}, page_content='② 제70조제1항, 제70조의2에 따른 제74조에 따라 차례로 할 것이 제70조제1항제2호에 따르며 서류를 제출하여야 한다는 경우에는 기준소득 중 거주자 본인이 된다(분산)과 제70조제2와 제74조에 따른 제료 및 제대법을 포함한다. 단, 차별제표청정인 그 업체를 남겨 제출한 경우로 그에 대하여 아니하다.<개정 2013. 1. 1.>\\n  ③ 제80조에 따른 수익과 관련의 경우에는 기초공제 중 거주자 본인이 된다(분산)과 그에 관한 적지사항을 분명히 한다.\\n[전문개정 2009. 12. 31.]\\n[제목개정 2014. 1. 1.]\\n제54조의2(공동사업에 대한 소득공제 등 특례) 제51조의3 또는 「조세특례제한법」에 따른 소득공제를 적용하거나 제59조의2에 따른 세액감면을 적용하는 경우 제54조제3항에 따라 공동사업자의 소득에 합산과세되는 특별세액거래의 지출․납입․투자 등의 금액이 있을 경우 주된 공동사업자의 소득에 합산과세되는 소득금액에 합산되어 주된 공동사업자의 합산과세세액은 공동사업소득액 또는 공동사업창출세액을 계산할 때 소득공제 또는 세액공제를 받을 수 있다. \\n[개정 2014. 1. 1.]\\n[전문개정 2009. 12. 31.]\\n[제목개정 2014. 1. 1.]\\n제2절 세액의 계산 <개정 2009. 12. 31.>\\n제1관 세율 <개정 2009. 12. 31.>\\n제55조(세율) 거주자의 종합소득에 대한 소득세는 해당 연도의 종합소득과세표준에 다음의 세율을 적용하여 계산한 금액(이하 \"종합소득과세표준세액\"이라 한다)을 그 세액으로 한다. <개정 2014. 1. 1., 2016. 12. 20., 2017. 12. 19., 2020. 12. 29., 2022. 12. 31.>\\n종합소득\\n┌───────────────┐\\n│ 과세표준의 6개 구간 │\\n├───────────────┤\\n│ 1,400만원 이하        │ 84만원 + (1,400만원을 초과하는 금액의 15%)  │\\n│ 1,400만원 초과        │ 84만원 + (5,000만원을 초과하는 금액의 24%)  │\\n│ 8,800만원 이하        │ 624만원 + (5,000만원을 초과하는 금액의 24%)  │\\n│ 8,800만원 초과        │ 1,536만원 + (8,800만원을 초과하는 금액의 35%)  │\\n│ 1.5억원 초과          │ 4,046만원 + (1,500만원을 초과하는 금액의 38%)  │\\n│ 3억원 초과            │ 6,460만원 + (3억원을 초과하는 금액의 40%)  │\\n│ 5억원 초과            │ 14,760만원 + (5억원을 초과하는 금액의 42%)  │\\n│ 10억원 초과           │ 38,406만원 + (10억원을 초과하는 금액의 45%)  │\\n└───────────────┘\\n② 거주자의 퇴직소득에 대한 소득세는 다음 각 호의 순서에 따라 계산한 금액(이하 ‘퇴직소득 산출세액’이라 한다)으로 한다. <개정 2013. 1. 1., 2014. 12. 23.>')]\n",
      "doc relevance response == {'Score': 1, 'Explanation': 'The facts provided in the documents discuss various aspects of tax calculations, including income tax scaling, different tax rates for specific income types like interest and dividends, and the tax treatment of comprehensive income. Although none of the documents specifically mentions a salary of 50 million won (approx. 5천만원) directly, they contain relevant information on how taxes might be calculated or influenced by tax brackets and taxable income types. Thus, the provided facts do indeed have semantic relevance to the question as they present context for calculating the taxes of any salaried individual, including someone earning 50 million won. Therefore, they should be considered related and receive the highest score of 1.'}\n"
     ]
    },
    {
     "data": {
      "text/plain": [
       "{'query': '연봉 5천만원 직장인의 세금은?',\n",
       " 'context': [Document(id='ba2056ee-28dc-48a8-9f3a-78c3ba24da6b', metadata={'source': './documents/income_tax2.txt'}, page_content='5년 이하: 30만원 → 납입연수\\n5년 초과 10년 이하: 150만원 + 50만원 × (납입연수 - 5년)\\n10년 초과 20년 이하: 400만원 + 80만원 × (납입연수 - 10년)\\n20년 초과: 1,200만원 + 120만원 × (납입연수 - 20년)\\n\\n② 직장근로자 초과관세환급금을 분배하여 지급받는 경우 세액의 계산 방법 등 필요한 사항은 대통령령으로 정한다. \\n<대통령 2014. 12. 23.>\\n<전문개정 2009. 12. 31.>\\n제64조(부동산매매업자에 대한 세액 계산의 특례)\\n1) 대통령령으로 정하는 부동산매매업(이하 “부동산매매업”이라 한다)을 영위하는 거주자가 이하 “부동산매매업자”라 한다)로서 종합소득세법에 제104조제1항제1호(본항을 포함한다) 및 제103조 또는 같은 조 제7항 각 호의 어느 하나에 해당하는 자산의 매매자익(이하 “주택등매매차익”이라 한다)이 있는 자의 종합소득 산출세액은 다음 각 호의 세액 중 많은 것으로 한다. \\n<개정 2014. 12. 23., 2017. 12. 19., 2020. 12. 29.>\\n1. 종합소득 산출세액\\n\\n다음 각 목에 따른 세액의 합계액\\n  가. 주택등매매차익에 따른 세율을 적용하여 산출한 세액의 합계액\\n  나. 종합소득세법 제55조에 따라 주택등매매차익에 대한 개별세액을 공제한 금액을 과세표준으로 하고 이에 제55조에 따른 세율을 적용하여 산출세액'),\n",
       "  Document(id='07aa73e7-af59-4e3b-af9e-f9ea18ec6e9b', metadata={'source': './documents/income_tax2.txt'}, page_content='이자소득에 대해서는 다음과 같이 규정하는 세율\\n가. 삭제<2017. 12. 19.>\\n나. 비영업대금의 이익에 대해서는 100분의 25. 단, ‘온라인투자연계금융업 및 이용자 보호에 관한 법률’ 제 법 금융위원회에 등록한 온라인투자연계금융업자를 통해 지급받는 이자소득에 대해서는 100분의 14 한다.\\n다. 제16조제1항제10호에 따른 직장공제기초발행금에 대해서는 기본세율\\n라. 그 밖의 이자소득에 대해서는 100분의 14\\n마. 배당소득에 대해서는 다음과 같이 규정하는 세율\\n바. 제17조제1항제8호에 따른 출자공동사업자의 배당소득에 대해서는 100분의 25\\n사. 그 밖의 배당소득에 대해서는 100분의 14\\n원천징수 대상 사업소득에 대해서는 100분의 3. 다만, 외국인 직업운동가가 한국프로스포츠산업법에 따른 스포츠 클럽 운영의 정 프로스포츠구단안에 계약(예외기간이 3년 이하인 경우로 한정한다)에 따라 종목을 제공하고 받는 소득에 대해서는 100분의 20으로 한다.\\n근로소득에 대해서는 기본세율. 다만, 임금근로자의 근로소득에 대해서는 100분의 6으로 한다.\\n공적연금소득에 대해서는 기본세율\\n제21조제3항제12호 및 제다목에 따른 연금계좌 말일에 운영실적에 따른 증가액을 연금소득변경 업소득에 대해서는 다음 각 목의 구분에 따른 세율. 이 경우 각 목의 요건을 동시에 충족하는 경우에 낮은 세율을 적용한다.\\n가. 연금소득자의 나이에 따른 다음의 세율\\n\\n| 나이(연금수령형태) | 세율          |\\n|----------------------|---------------|\\n| 70세 미만            | 10분의 5     |\\n| 70세 이상           | 80세 미만    | 10분의 4 |\\n| 80세 이상           | 10분의 3     |\\n\\n나. 삭제<2014. 12. 23.>\\n다. 사업할 때까지 연금수령으로 정하는 중신계약에 따라 받는 연금소득에 대해서는 100분의 4\\n제20조제3항제12호와 제13호에 따라 퇴직소득에 대해서는 다음 각 목의 구분에 따른 세율. 이 경우 연금 실세 수령과 및 연금수령 원천징수세율의 계정의 내용은 대출형으로 정한다.\\n가. 연금 실세 수령연차가 10년 미만인 경우: 연금수령 원천징수세율이 100분의 70\\n나. 연금 실세 수령연차가 10년을 초과하는 경우: 연금수령 원천징수세율이 100분의 60\\n기타소득에 대해서는 다음 규정하는 세율. 다만, 제8호를 적용하는 경우를 제외한다.\\n라. 제14조제1항제9호 및 마목에 해당하는 소득금액이 3억원을 초과하는 경우 그 초과하는 부분에 대해서는 100분의 30\\n제21조제1항제18호 및 제24조에 따른 기타소득에 대해서는 100분의 15\\n다. 삭제<2014. 12. 23.>\\n라. 그 밖의 기타소득에 대해서는 100분의 20\\n퇴직소득에 대해서는 기본세율\\n대통령령으로 정하는 봉사료에 대해서는 100분의 5'),\n",
       "  Document(id='386ab166-3fc1-4836-a5ae-a2c4b3570237', metadata={'source': './documents/income_tax2.txt'}, page_content='② 제70조제1항, 제70조의2에 따른 제74조에 따라 차례로 할 것이 제70조제1항제2호에 따르며 서류를 제출하여야 한다는 경우에는 기준소득 중 거주자 본인이 된다(분산)과 제70조제2와 제74조에 따른 제료 및 제대법을 포함한다. 단, 차별제표청정인 그 업체를 남겨 제출한 경우로 그에 대하여 아니하다.<개정 2013. 1. 1.>\\n  ③ 제80조에 따른 수익과 관련의 경우에는 기초공제 중 거주자 본인이 된다(분산)과 그에 관한 적지사항을 분명히 한다.\\n[전문개정 2009. 12. 31.]\\n[제목개정 2014. 1. 1.]\\n제54조의2(공동사업에 대한 소득공제 등 특례) 제51조의3 또는 「조세특례제한법」에 따른 소득공제를 적용하거나 제59조의2에 따른 세액감면을 적용하는 경우 제54조제3항에 따라 공동사업자의 소득에 합산과세되는 특별세액거래의 지출․납입․투자 등의 금액이 있을 경우 주된 공동사업자의 소득에 합산과세되는 소득금액에 합산되어 주된 공동사업자의 합산과세세액은 공동사업소득액 또는 공동사업창출세액을 계산할 때 소득공제 또는 세액공제를 받을 수 있다. \\n[개정 2014. 1. 1.]\\n[전문개정 2009. 12. 31.]\\n[제목개정 2014. 1. 1.]\\n제2절 세액의 계산 <개정 2009. 12. 31.>\\n제1관 세율 <개정 2009. 12. 31.>\\n제55조(세율) 거주자의 종합소득에 대한 소득세는 해당 연도의 종합소득과세표준에 다음의 세율을 적용하여 계산한 금액(이하 \"종합소득과세표준세액\"이라 한다)을 그 세액으로 한다. <개정 2014. 1. 1., 2016. 12. 20., 2017. 12. 19., 2020. 12. 29., 2022. 12. 31.>\\n종합소득\\n┌───────────────┐\\n│ 과세표준의 6개 구간 │\\n├───────────────┤\\n│ 1,400만원 이하        │ 84만원 + (1,400만원을 초과하는 금액의 15%)  │\\n│ 1,400만원 초과        │ 84만원 + (5,000만원을 초과하는 금액의 24%)  │\\n│ 8,800만원 이하        │ 624만원 + (5,000만원을 초과하는 금액의 24%)  │\\n│ 8,800만원 초과        │ 1,536만원 + (8,800만원을 초과하는 금액의 35%)  │\\n│ 1.5억원 초과          │ 4,046만원 + (1,500만원을 초과하는 금액의 38%)  │\\n│ 3억원 초과            │ 6,460만원 + (3억원을 초과하는 금액의 40%)  │\\n│ 5억원 초과            │ 14,760만원 + (5억원을 초과하는 금액의 42%)  │\\n│ 10억원 초과           │ 38,406만원 + (10억원을 초과하는 금액의 45%)  │\\n└───────────────┘\\n② 거주자의 퇴직소득에 대한 소득세는 다음 각 호의 순서에 따라 계산한 금액(이하 ‘퇴직소득 산출세액’이라 한다)으로 한다. <개정 2013. 1. 1., 2014. 12. 23.>')],\n",
       " 'answer': AIMessage(content='연봉 5천만원 직장인의 세금은 종합소득 과세표준에 따라 계산됩니다. 5천만원의 경우, 1,400만원을 초과하므로, 과세표준은 84만원 + (5,000만원 - 1,400만원) x 24%가 됩니다. 이를 통해 계산된 소득세를 부담하게 됩니다.', additional_kwargs={'refusal': None}, response_metadata={'token_usage': {'completion_tokens': 83, 'prompt_tokens': 2518, 'total_tokens': 2601, 'completion_tokens_details': {'accepted_prediction_tokens': 0, 'audio_tokens': 0, 'reasoning_tokens': 0, 'rejected_prediction_tokens': 0}, 'prompt_tokens_details': {'audio_tokens': 0, 'cached_tokens': 0}}, 'model_name': 'gpt-4o-2024-08-06', 'system_fingerprint': 'fp_07871e2ad8', 'id': 'chatcmpl-BpSj4tz30KukEoFCh3hPpeoDlxyIr', 'service_tier': 'default', 'finish_reason': 'stop', 'logprobs': None}, id='run--8fbdebfb-9caf-4003-b5d6-acc14ea85896-0', usage_metadata={'input_tokens': 2518, 'output_tokens': 83, 'total_tokens': 2601, 'input_token_details': {'audio': 0, 'cache_read': 0}, 'output_token_details': {'audio': 0, 'reasoning': 0}})}"
      ]
     },
     "execution_count": 65,
     "metadata": {},
     "output_type": "execute_result"
    }
   ],
   "source": [
    "initial_state = {\"query\": \"연봉 5천만원 직장인의 세금은?\"}\n",
    "graph.invoke(initial_state)"
   ]
  },
  {
   "cell_type": "code",
   "execution_count": null,
   "id": "e186efe9",
   "metadata": {},
   "outputs": [],
   "source": []
  }
 ],
 "metadata": {
  "kernelspec": {
   "display_name": "langgraph-lecture",
   "language": "python",
   "name": "python3"
  },
  "language_info": {
   "codemirror_mode": {
    "name": "ipython",
    "version": 3
   },
   "file_extension": ".py",
   "mimetype": "text/x-python",
   "name": "python",
   "nbconvert_exporter": "python",
   "pygments_lexer": "ipython3",
   "version": "3.12.10"
  }
 },
 "nbformat": 4,
 "nbformat_minor": 5
}
